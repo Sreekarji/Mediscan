{
  "nbformat": 4,
  "nbformat_minor": 0,
  "metadata": {
    "colab": {
      "provenance": [],
      "gpuType": "T4"
    },
    "kernelspec": {
      "name": "python3",
      "display_name": "Python 3"
    },
    "language_info": {
      "name": "python"
    },
    "accelerator": "GPU"
  },
  "cells": [
    {
      "cell_type": "code",
      "source": [
        "!pip install segmentation_models_pytorch albumentations==1.3.0 --quiet\n",
        "\n",
        "\n",
        "import os\n",
        "import numpy as np\n",
        "import cv2\n",
        "import matplotlib.pyplot as plt\n",
        "import torch.nn as nn\n",
        "from torch.utils.data import Dataset, DataLoader\n",
        "\n",
        "import segmentation_models_pytorch as smp\n",
        "import albumentations as A\n",
        "from albumentations.pytorch import ToTensorV2\n",
        "\n",
        "import torch\n",
        "print(\"Torch version:\", torch.__version__)\n",
        "print(\"CUDA available:\", torch.cuda.is_available())\n",
        "print(\"GPU:\", torch.cuda.get_device_name(0) if torch.cuda.is_available() else \"None\")\n"
      ],
      "metadata": {
        "id": "I0CoGAztpblL",
        "colab": {
          "base_uri": "https://localhost:8080/"
        },
        "outputId": "85250cd8-33aa-4973-9a74-3b03d40e96d7"
      },
      "execution_count": 2,
      "outputs": [
        {
          "output_type": "stream",
          "name": "stdout",
          "text": [
            "Torch version: 2.6.0+cu124\n",
            "CUDA available: True\n",
            "GPU: Tesla T4\n"
          ]
        }
      ]
    },
    {
      "cell_type": "code",
      "source": [
        "import kagglehub\n",
        "\n",
        "\n",
        "path = kagglehub.dataset_download(\"dschettler8845/brats-2021-task1\")\n",
        "\n",
        "print(\"Path to dataset files:\", path)\n"
      ],
      "metadata": {
        "id": "aEpGXd1cp5Bo",
        "colab": {
          "base_uri": "https://localhost:8080/"
        },
        "outputId": "b14bb270-f244-4beb-8c52-0def44ca24ed"
      },
      "execution_count": 3,
      "outputs": [
        {
          "output_type": "stream",
          "name": "stdout",
          "text": [
            "Path to dataset files: /kaggle/input/brats-2021-task1\n"
          ]
        }
      ]
    },
    {
      "cell_type": "code",
      "source": [
        "import os\n",
        "\n",
        "\n",
        "for f in os.listdir(path):\n",
        "    print(f)"
      ],
      "metadata": {
        "id": "0vybDQh2qjmH",
        "colab": {
          "base_uri": "https://localhost:8080/"
        },
        "outputId": "57833ab9-7d83-4d54-d03c-1bd4ecbd0037"
      },
      "execution_count": 4,
      "outputs": [
        {
          "output_type": "stream",
          "name": "stdout",
          "text": [
            "BraTS2021_00495.tar\n",
            "BraTS2021_Training_Data.tar\n",
            "BraTS2021_00621.tar\n"
          ]
        }
      ]
    },
    {
      "cell_type": "code",
      "source": [
        "import os\n",
        "import tarfile\n",
        "base_path = \"/root/.cache/kagglehub/datasets/dschettler8845/brats-2021-task1/versions/1\"\n",
        "extract_path = \"/root/.cache/kagglehub/datasets/dschettler8845/brats-2021-task1/extracted\"\n",
        "os.makedirs(extract_path, exist_ok=True)\n",
        "\n",
        "for filename in os.listdir(base_path):\n",
        "    if filename.endswith(\".tar\"):\n",
        "        file_path = os.path.join(base_path, filename)\n",
        "        print(f\"Extracting {filename}...\")\n",
        "        with tarfile.open(file_path) as tar:\n",
        "            tar.extractall(path=extract_path)\n",
        "\n",
        "print(\"All archives extracted.\")\n",
        "print(\"Folders extracted:\", os.listdir(extract_path)[:5])\n"
      ],
      "metadata": {
        "id": "9sWcU9acjkig",
        "colab": {
          "base_uri": "https://localhost:8080/"
        },
        "outputId": "b120b053-8d19-499d-ce5f-193951008373"
      },
      "execution_count": 5,
      "outputs": [
        {
          "output_type": "stream",
          "name": "stdout",
          "text": [
            "Extracting BraTS2021_00495.tar...\n",
            "Extracting BraTS2021_Training_Data.tar...\n",
            "Extracting BraTS2021_00621.tar...\n",
            "All archives extracted.\n",
            "Folders extracted: ['BraTS2021_01082', 'BraTS2021_01083', 'BraTS2021_00132', 'BraTS2021_01533', 'BraTS2021_01058']\n"
          ]
        }
      ]
    },
    {
      "cell_type": "code",
      "source": [
        "extract_path = '/root/.cache/kagglehub/datasets/dschettler8845/brats-2021-task1/extracted'\n",
        "folders = sorted(os.listdir(extract_path))\n",
        "print(folders)\n"
      ],
      "metadata": {
        "id": "F-pzgLhfhRCz",
        "colab": {
          "base_uri": "https://localhost:8080/"
        },
        "outputId": "e02e50cf-ceaa-4745-9842-4a819b2119b1"
      },
      "execution_count": 6,
      "outputs": [
        {
          "output_type": "stream",
          "name": "stdout",
          "text": [
            "['.DS_Store', 'BraTS2021_00000', 'BraTS2021_00002', 'BraTS2021_00003', 'BraTS2021_00005', 'BraTS2021_00006', 'BraTS2021_00008', 'BraTS2021_00009', 'BraTS2021_00011', 'BraTS2021_00012', 'BraTS2021_00014', 'BraTS2021_00016', 'BraTS2021_00017', 'BraTS2021_00018', 'BraTS2021_00019', 'BraTS2021_00020', 'BraTS2021_00021', 'BraTS2021_00022', 'BraTS2021_00024', 'BraTS2021_00025', 'BraTS2021_00026', 'BraTS2021_00028', 'BraTS2021_00030', 'BraTS2021_00031', 'BraTS2021_00032', 'BraTS2021_00033', 'BraTS2021_00035', 'BraTS2021_00036', 'BraTS2021_00043', 'BraTS2021_00044', 'BraTS2021_00045', 'BraTS2021_00046', 'BraTS2021_00048', 'BraTS2021_00049', 'BraTS2021_00051', 'BraTS2021_00052', 'BraTS2021_00053', 'BraTS2021_00054', 'BraTS2021_00056', 'BraTS2021_00058', 'BraTS2021_00059', 'BraTS2021_00060', 'BraTS2021_00061', 'BraTS2021_00062', 'BraTS2021_00063', 'BraTS2021_00064', 'BraTS2021_00066', 'BraTS2021_00068', 'BraTS2021_00070', 'BraTS2021_00071', 'BraTS2021_00072', 'BraTS2021_00074', 'BraTS2021_00077', 'BraTS2021_00078', 'BraTS2021_00081', 'BraTS2021_00084', 'BraTS2021_00085', 'BraTS2021_00087', 'BraTS2021_00088', 'BraTS2021_00089', 'BraTS2021_00090', 'BraTS2021_00094', 'BraTS2021_00095', 'BraTS2021_00096', 'BraTS2021_00097', 'BraTS2021_00098', 'BraTS2021_00099', 'BraTS2021_00100', 'BraTS2021_00101', 'BraTS2021_00102', 'BraTS2021_00103', 'BraTS2021_00104', 'BraTS2021_00105', 'BraTS2021_00106', 'BraTS2021_00107', 'BraTS2021_00108', 'BraTS2021_00109', 'BraTS2021_00110', 'BraTS2021_00111', 'BraTS2021_00112', 'BraTS2021_00113', 'BraTS2021_00115', 'BraTS2021_00116', 'BraTS2021_00117', 'BraTS2021_00118', 'BraTS2021_00120', 'BraTS2021_00121', 'BraTS2021_00122', 'BraTS2021_00123', 'BraTS2021_00124', 'BraTS2021_00126', 'BraTS2021_00127', 'BraTS2021_00128', 'BraTS2021_00130', 'BraTS2021_00131', 'BraTS2021_00132', 'BraTS2021_00133', 'BraTS2021_00134', 'BraTS2021_00136', 'BraTS2021_00137', 'BraTS2021_00138', 'BraTS2021_00139', 'BraTS2021_00140', 'BraTS2021_00142', 'BraTS2021_00143', 'BraTS2021_00144', 'BraTS2021_00146', 'BraTS2021_00147', 'BraTS2021_00148', 'BraTS2021_00149', 'BraTS2021_00150', 'BraTS2021_00151', 'BraTS2021_00152', 'BraTS2021_00154', 'BraTS2021_00155', 'BraTS2021_00156', 'BraTS2021_00157', 'BraTS2021_00158', 'BraTS2021_00159', 'BraTS2021_00160', 'BraTS2021_00162', 'BraTS2021_00165', 'BraTS2021_00166', 'BraTS2021_00167', 'BraTS2021_00170', 'BraTS2021_00171', 'BraTS2021_00172', 'BraTS2021_00176', 'BraTS2021_00177', 'BraTS2021_00178', 'BraTS2021_00183', 'BraTS2021_00184', 'BraTS2021_00185', 'BraTS2021_00186', 'BraTS2021_00187', 'BraTS2021_00188', 'BraTS2021_00191', 'BraTS2021_00192', 'BraTS2021_00193', 'BraTS2021_00194', 'BraTS2021_00195', 'BraTS2021_00196', 'BraTS2021_00199', 'BraTS2021_00201', 'BraTS2021_00203', 'BraTS2021_00204', 'BraTS2021_00206', 'BraTS2021_00207', 'BraTS2021_00209', 'BraTS2021_00210', 'BraTS2021_00211', 'BraTS2021_00212', 'BraTS2021_00214', 'BraTS2021_00216', 'BraTS2021_00217', 'BraTS2021_00218', 'BraTS2021_00219', 'BraTS2021_00220', 'BraTS2021_00221', 'BraTS2021_00222', 'BraTS2021_00227', 'BraTS2021_00228', 'BraTS2021_00230', 'BraTS2021_00231', 'BraTS2021_00233', 'BraTS2021_00234', 'BraTS2021_00235', 'BraTS2021_00236', 'BraTS2021_00237', 'BraTS2021_00238', 'BraTS2021_00239', 'BraTS2021_00240', 'BraTS2021_00241', 'BraTS2021_00242', 'BraTS2021_00243', 'BraTS2021_00246', 'BraTS2021_00247', 'BraTS2021_00249', 'BraTS2021_00250', 'BraTS2021_00251', 'BraTS2021_00253', 'BraTS2021_00254', 'BraTS2021_00258', 'BraTS2021_00259', 'BraTS2021_00260', 'BraTS2021_00261', 'BraTS2021_00262', 'BraTS2021_00263', 'BraTS2021_00266', 'BraTS2021_00267', 'BraTS2021_00269', 'BraTS2021_00270', 'BraTS2021_00271', 'BraTS2021_00273', 'BraTS2021_00274', 'BraTS2021_00275', 'BraTS2021_00280', 'BraTS2021_00281', 'BraTS2021_00282', 'BraTS2021_00283', 'BraTS2021_00284', 'BraTS2021_00285', 'BraTS2021_00286', 'BraTS2021_00288', 'BraTS2021_00289', 'BraTS2021_00290', 'BraTS2021_00291', 'BraTS2021_00292', 'BraTS2021_00293', 'BraTS2021_00294', 'BraTS2021_00296', 'BraTS2021_00297', 'BraTS2021_00298', 'BraTS2021_00299', 'BraTS2021_00300', 'BraTS2021_00301', 'BraTS2021_00303', 'BraTS2021_00304', 'BraTS2021_00305', 'BraTS2021_00306', 'BraTS2021_00309', 'BraTS2021_00310', 'BraTS2021_00311', 'BraTS2021_00312', 'BraTS2021_00313', 'BraTS2021_00314', 'BraTS2021_00316', 'BraTS2021_00317', 'BraTS2021_00318', 'BraTS2021_00320', 'BraTS2021_00321', 'BraTS2021_00322', 'BraTS2021_00324', 'BraTS2021_00325', 'BraTS2021_00327', 'BraTS2021_00328', 'BraTS2021_00329', 'BraTS2021_00331', 'BraTS2021_00332', 'BraTS2021_00334', 'BraTS2021_00336', 'BraTS2021_00338', 'BraTS2021_00339', 'BraTS2021_00340', 'BraTS2021_00341', 'BraTS2021_00343', 'BraTS2021_00344', 'BraTS2021_00346', 'BraTS2021_00347', 'BraTS2021_00348', 'BraTS2021_00349', 'BraTS2021_00350', 'BraTS2021_00351', 'BraTS2021_00352', 'BraTS2021_00353', 'BraTS2021_00356', 'BraTS2021_00359', 'BraTS2021_00360', 'BraTS2021_00364', 'BraTS2021_00366', 'BraTS2021_00367', 'BraTS2021_00369', 'BraTS2021_00370', 'BraTS2021_00371', 'BraTS2021_00373', 'BraTS2021_00375', 'BraTS2021_00376', 'BraTS2021_00377', 'BraTS2021_00378', 'BraTS2021_00379', 'BraTS2021_00380', 'BraTS2021_00382', 'BraTS2021_00383', 'BraTS2021_00386', 'BraTS2021_00387', 'BraTS2021_00388', 'BraTS2021_00389', 'BraTS2021_00390', 'BraTS2021_00391', 'BraTS2021_00392', 'BraTS2021_00395', 'BraTS2021_00397', 'BraTS2021_00399', 'BraTS2021_00400', 'BraTS2021_00401', 'BraTS2021_00402', 'BraTS2021_00403', 'BraTS2021_00404', 'BraTS2021_00405', 'BraTS2021_00406', 'BraTS2021_00407', 'BraTS2021_00409', 'BraTS2021_00410', 'BraTS2021_00412', 'BraTS2021_00413', 'BraTS2021_00414', 'BraTS2021_00416', 'BraTS2021_00417', 'BraTS2021_00418', 'BraTS2021_00419', 'BraTS2021_00421', 'BraTS2021_00423', 'BraTS2021_00425', 'BraTS2021_00426', 'BraTS2021_00429', 'BraTS2021_00430', 'BraTS2021_00431', 'BraTS2021_00432', 'BraTS2021_00433', 'BraTS2021_00436', 'BraTS2021_00440', 'BraTS2021_00441', 'BraTS2021_00442', 'BraTS2021_00443', 'BraTS2021_00444', 'BraTS2021_00445', 'BraTS2021_00446', 'BraTS2021_00448', 'BraTS2021_00449', 'BraTS2021_00451', 'BraTS2021_00452', 'BraTS2021_00453', 'BraTS2021_00454', 'BraTS2021_00455', 'BraTS2021_00456', 'BraTS2021_00457', 'BraTS2021_00459', 'BraTS2021_00464', 'BraTS2021_00466', 'BraTS2021_00468', 'BraTS2021_00469', 'BraTS2021_00470', 'BraTS2021_00472', 'BraTS2021_00477', 'BraTS2021_00478', 'BraTS2021_00479', 'BraTS2021_00480', 'BraTS2021_00481', 'BraTS2021_00483', 'BraTS2021_00485', 'BraTS2021_00488', 'BraTS2021_00491', 'BraTS2021_00493', 'BraTS2021_00494', 'BraTS2021_00495', 'BraTS2021_00495_flair.nii.gz', 'BraTS2021_00495_seg.nii.gz', 'BraTS2021_00495_t1.nii.gz', 'BraTS2021_00495_t1ce.nii.gz', 'BraTS2021_00495_t2.nii.gz', 'BraTS2021_00496', 'BraTS2021_00498', 'BraTS2021_00499', 'BraTS2021_00500', 'BraTS2021_00501', 'BraTS2021_00502', 'BraTS2021_00504', 'BraTS2021_00505', 'BraTS2021_00506', 'BraTS2021_00507', 'BraTS2021_00510', 'BraTS2021_00511', 'BraTS2021_00512', 'BraTS2021_00513', 'BraTS2021_00514', 'BraTS2021_00516', 'BraTS2021_00517', 'BraTS2021_00518', 'BraTS2021_00519', 'BraTS2021_00520', 'BraTS2021_00523', 'BraTS2021_00524', 'BraTS2021_00525', 'BraTS2021_00526', 'BraTS2021_00528', 'BraTS2021_00529', 'BraTS2021_00530', 'BraTS2021_00532', 'BraTS2021_00533', 'BraTS2021_00537', 'BraTS2021_00538', 'BraTS2021_00539', 'BraTS2021_00540', 'BraTS2021_00542', 'BraTS2021_00543', 'BraTS2021_00544', 'BraTS2021_00545', 'BraTS2021_00547', 'BraTS2021_00548', 'BraTS2021_00549', 'BraTS2021_00550', 'BraTS2021_00551', 'BraTS2021_00552', 'BraTS2021_00554', 'BraTS2021_00555', 'BraTS2021_00556', 'BraTS2021_00557', 'BraTS2021_00558', 'BraTS2021_00559', 'BraTS2021_00561', 'BraTS2021_00563', 'BraTS2021_00565', 'BraTS2021_00567', 'BraTS2021_00568', 'BraTS2021_00569', 'BraTS2021_00570', 'BraTS2021_00571', 'BraTS2021_00572', 'BraTS2021_00574', 'BraTS2021_00575', 'BraTS2021_00576', 'BraTS2021_00577', 'BraTS2021_00578', 'BraTS2021_00579', 'BraTS2021_00580', 'BraTS2021_00581', 'BraTS2021_00582', 'BraTS2021_00583', 'BraTS2021_00584', 'BraTS2021_00586', 'BraTS2021_00587', 'BraTS2021_00588', 'BraTS2021_00589', 'BraTS2021_00590', 'BraTS2021_00591', 'BraTS2021_00593', 'BraTS2021_00594', 'BraTS2021_00596', 'BraTS2021_00597', 'BraTS2021_00598', 'BraTS2021_00599', 'BraTS2021_00601', 'BraTS2021_00602', 'BraTS2021_00604', 'BraTS2021_00605', 'BraTS2021_00606', 'BraTS2021_00607', 'BraTS2021_00608', 'BraTS2021_00610', 'BraTS2021_00611', 'BraTS2021_00612', 'BraTS2021_00613', 'BraTS2021_00615', 'BraTS2021_00616', 'BraTS2021_00618', 'BraTS2021_00619', 'BraTS2021_00620', 'BraTS2021_00621', 'BraTS2021_00621_flair.nii.gz', 'BraTS2021_00621_seg.nii.gz', 'BraTS2021_00621_t1.nii.gz', 'BraTS2021_00621_t1ce.nii.gz', 'BraTS2021_00621_t2.nii.gz', 'BraTS2021_00622', 'BraTS2021_00623', 'BraTS2021_00624', 'BraTS2021_00625', 'BraTS2021_00626', 'BraTS2021_00628', 'BraTS2021_00630', 'BraTS2021_00631', 'BraTS2021_00636', 'BraTS2021_00638', 'BraTS2021_00639', 'BraTS2021_00640', 'BraTS2021_00641', 'BraTS2021_00642', 'BraTS2021_00645', 'BraTS2021_00646', 'BraTS2021_00649', 'BraTS2021_00650', 'BraTS2021_00651', 'BraTS2021_00652', 'BraTS2021_00654', 'BraTS2021_00655', 'BraTS2021_00656', 'BraTS2021_00657', 'BraTS2021_00658', 'BraTS2021_00659', 'BraTS2021_00661', 'BraTS2021_00663', 'BraTS2021_00667', 'BraTS2021_00668', 'BraTS2021_00674', 'BraTS2021_00675', 'BraTS2021_00676', 'BraTS2021_00677', 'BraTS2021_00679', 'BraTS2021_00680', 'BraTS2021_00682', 'BraTS2021_00683', 'BraTS2021_00684', 'BraTS2021_00685', 'BraTS2021_00686', 'BraTS2021_00687', 'BraTS2021_00688', 'BraTS2021_00689', 'BraTS2021_00690', 'BraTS2021_00691', 'BraTS2021_00692', 'BraTS2021_00693', 'BraTS2021_00694', 'BraTS2021_00697', 'BraTS2021_00698', 'BraTS2021_00703', 'BraTS2021_00704', 'BraTS2021_00705', 'BraTS2021_00706', 'BraTS2021_00707', 'BraTS2021_00708', 'BraTS2021_00709', 'BraTS2021_00714', 'BraTS2021_00715', 'BraTS2021_00716', 'BraTS2021_00718', 'BraTS2021_00723', 'BraTS2021_00724', 'BraTS2021_00725', 'BraTS2021_00727', 'BraTS2021_00728', 'BraTS2021_00729', 'BraTS2021_00730', 'BraTS2021_00731', 'BraTS2021_00732', 'BraTS2021_00733', 'BraTS2021_00734', 'BraTS2021_00735', 'BraTS2021_00736', 'BraTS2021_00737', 'BraTS2021_00739', 'BraTS2021_00740', 'BraTS2021_00742', 'BraTS2021_00744', 'BraTS2021_00746', 'BraTS2021_00747', 'BraTS2021_00750', 'BraTS2021_00751', 'BraTS2021_00753', 'BraTS2021_00756', 'BraTS2021_00757', 'BraTS2021_00758', 'BraTS2021_00759', 'BraTS2021_00760', 'BraTS2021_00764', 'BraTS2021_00765', 'BraTS2021_00767', 'BraTS2021_00768', 'BraTS2021_00772', 'BraTS2021_00773', 'BraTS2021_00774', 'BraTS2021_00775', 'BraTS2021_00777', 'BraTS2021_00778', 'BraTS2021_00780', 'BraTS2021_00781', 'BraTS2021_00782', 'BraTS2021_00784', 'BraTS2021_00787', 'BraTS2021_00788', 'BraTS2021_00789', 'BraTS2021_00791', 'BraTS2021_00792', 'BraTS2021_00793', 'BraTS2021_00795', 'BraTS2021_00796', 'BraTS2021_00797', 'BraTS2021_00799', 'BraTS2021_00800', 'BraTS2021_00801', 'BraTS2021_00802', 'BraTS2021_00803', 'BraTS2021_00804', 'BraTS2021_00805', 'BraTS2021_00806', 'BraTS2021_00807', 'BraTS2021_00808', 'BraTS2021_00809', 'BraTS2021_00810', 'BraTS2021_00811', 'BraTS2021_00814', 'BraTS2021_00816', 'BraTS2021_00818', 'BraTS2021_00819', 'BraTS2021_00820', 'BraTS2021_00823', 'BraTS2021_00824', 'BraTS2021_00828', 'BraTS2021_00830', 'BraTS2021_00831', 'BraTS2021_00834', 'BraTS2021_00836', 'BraTS2021_00837', 'BraTS2021_00838', 'BraTS2021_00839', 'BraTS2021_00840', 'BraTS2021_00999', 'BraTS2021_01000', 'BraTS2021_01001', 'BraTS2021_01002', 'BraTS2021_01003', 'BraTS2021_01004', 'BraTS2021_01005', 'BraTS2021_01007', 'BraTS2021_01008', 'BraTS2021_01009', 'BraTS2021_01010', 'BraTS2021_01011', 'BraTS2021_01012', 'BraTS2021_01013', 'BraTS2021_01014', 'BraTS2021_01015', 'BraTS2021_01016', 'BraTS2021_01017', 'BraTS2021_01018', 'BraTS2021_01019', 'BraTS2021_01020', 'BraTS2021_01021', 'BraTS2021_01022', 'BraTS2021_01023', 'BraTS2021_01024', 'BraTS2021_01025', 'BraTS2021_01026', 'BraTS2021_01027', 'BraTS2021_01028', 'BraTS2021_01029', 'BraTS2021_01030', 'BraTS2021_01031', 'BraTS2021_01032', 'BraTS2021_01033', 'BraTS2021_01034', 'BraTS2021_01035', 'BraTS2021_01036', 'BraTS2021_01037', 'BraTS2021_01038', 'BraTS2021_01039', 'BraTS2021_01040', 'BraTS2021_01041', 'BraTS2021_01042', 'BraTS2021_01043', 'BraTS2021_01044', 'BraTS2021_01045', 'BraTS2021_01046', 'BraTS2021_01047', 'BraTS2021_01048', 'BraTS2021_01049', 'BraTS2021_01050', 'BraTS2021_01051', 'BraTS2021_01052', 'BraTS2021_01053', 'BraTS2021_01054', 'BraTS2021_01055', 'BraTS2021_01056', 'BraTS2021_01057', 'BraTS2021_01058', 'BraTS2021_01059', 'BraTS2021_01060', 'BraTS2021_01061', 'BraTS2021_01062', 'BraTS2021_01063', 'BraTS2021_01064', 'BraTS2021_01065', 'BraTS2021_01066', 'BraTS2021_01067', 'BraTS2021_01068', 'BraTS2021_01069', 'BraTS2021_01070', 'BraTS2021_01071', 'BraTS2021_01072', 'BraTS2021_01073', 'BraTS2021_01074', 'BraTS2021_01075', 'BraTS2021_01076', 'BraTS2021_01077', 'BraTS2021_01078', 'BraTS2021_01079', 'BraTS2021_01080', 'BraTS2021_01081', 'BraTS2021_01082', 'BraTS2021_01083', 'BraTS2021_01084', 'BraTS2021_01085', 'BraTS2021_01086', 'BraTS2021_01087', 'BraTS2021_01088', 'BraTS2021_01089', 'BraTS2021_01090', 'BraTS2021_01091', 'BraTS2021_01092', 'BraTS2021_01093', 'BraTS2021_01094', 'BraTS2021_01095', 'BraTS2021_01096', 'BraTS2021_01097', 'BraTS2021_01098', 'BraTS2021_01099', 'BraTS2021_01100', 'BraTS2021_01101', 'BraTS2021_01102', 'BraTS2021_01103', 'BraTS2021_01104', 'BraTS2021_01105', 'BraTS2021_01106', 'BraTS2021_01107', 'BraTS2021_01108', 'BraTS2021_01109', 'BraTS2021_01110', 'BraTS2021_01111', 'BraTS2021_01112', 'BraTS2021_01113', 'BraTS2021_01114', 'BraTS2021_01115', 'BraTS2021_01116', 'BraTS2021_01117', 'BraTS2021_01118', 'BraTS2021_01119', 'BraTS2021_01120', 'BraTS2021_01121', 'BraTS2021_01122', 'BraTS2021_01123', 'BraTS2021_01124', 'BraTS2021_01125', 'BraTS2021_01126', 'BraTS2021_01127', 'BraTS2021_01128', 'BraTS2021_01129', 'BraTS2021_01130', 'BraTS2021_01131', 'BraTS2021_01132', 'BraTS2021_01133', 'BraTS2021_01134', 'BraTS2021_01135', 'BraTS2021_01136', 'BraTS2021_01137', 'BraTS2021_01138', 'BraTS2021_01139', 'BraTS2021_01140', 'BraTS2021_01141', 'BraTS2021_01142', 'BraTS2021_01143', 'BraTS2021_01144', 'BraTS2021_01145', 'BraTS2021_01146', 'BraTS2021_01147', 'BraTS2021_01148', 'BraTS2021_01149', 'BraTS2021_01150', 'BraTS2021_01151', 'BraTS2021_01152', 'BraTS2021_01153', 'BraTS2021_01154', 'BraTS2021_01155', 'BraTS2021_01156', 'BraTS2021_01157', 'BraTS2021_01158', 'BraTS2021_01159', 'BraTS2021_01160', 'BraTS2021_01161', 'BraTS2021_01162', 'BraTS2021_01163', 'BraTS2021_01164', 'BraTS2021_01165', 'BraTS2021_01166', 'BraTS2021_01167', 'BraTS2021_01168', 'BraTS2021_01169', 'BraTS2021_01170', 'BraTS2021_01171', 'BraTS2021_01172', 'BraTS2021_01173', 'BraTS2021_01174', 'BraTS2021_01175', 'BraTS2021_01176', 'BraTS2021_01177', 'BraTS2021_01178', 'BraTS2021_01179', 'BraTS2021_01180', 'BraTS2021_01181', 'BraTS2021_01182', 'BraTS2021_01183', 'BraTS2021_01184', 'BraTS2021_01185', 'BraTS2021_01186', 'BraTS2021_01187', 'BraTS2021_01188', 'BraTS2021_01189', 'BraTS2021_01190', 'BraTS2021_01191', 'BraTS2021_01192', 'BraTS2021_01193', 'BraTS2021_01194', 'BraTS2021_01195', 'BraTS2021_01196', 'BraTS2021_01197', 'BraTS2021_01198', 'BraTS2021_01199', 'BraTS2021_01200', 'BraTS2021_01201', 'BraTS2021_01202', 'BraTS2021_01203', 'BraTS2021_01204', 'BraTS2021_01205', 'BraTS2021_01206', 'BraTS2021_01207', 'BraTS2021_01208', 'BraTS2021_01209', 'BraTS2021_01210', 'BraTS2021_01211', 'BraTS2021_01212', 'BraTS2021_01213', 'BraTS2021_01214', 'BraTS2021_01215', 'BraTS2021_01216', 'BraTS2021_01217', 'BraTS2021_01218', 'BraTS2021_01219', 'BraTS2021_01220', 'BraTS2021_01221', 'BraTS2021_01222', 'BraTS2021_01223', 'BraTS2021_01224', 'BraTS2021_01225', 'BraTS2021_01226', 'BraTS2021_01227', 'BraTS2021_01228', 'BraTS2021_01229', 'BraTS2021_01230', 'BraTS2021_01231', 'BraTS2021_01232', 'BraTS2021_01233', 'BraTS2021_01234', 'BraTS2021_01235', 'BraTS2021_01236', 'BraTS2021_01237', 'BraTS2021_01238', 'BraTS2021_01239', 'BraTS2021_01240', 'BraTS2021_01241', 'BraTS2021_01242', 'BraTS2021_01243', 'BraTS2021_01244', 'BraTS2021_01245', 'BraTS2021_01246', 'BraTS2021_01247', 'BraTS2021_01248', 'BraTS2021_01249', 'BraTS2021_01250', 'BraTS2021_01251', 'BraTS2021_01252', 'BraTS2021_01253', 'BraTS2021_01254', 'BraTS2021_01255', 'BraTS2021_01256', 'BraTS2021_01257', 'BraTS2021_01258', 'BraTS2021_01259', 'BraTS2021_01260', 'BraTS2021_01261', 'BraTS2021_01262', 'BraTS2021_01263', 'BraTS2021_01264', 'BraTS2021_01265', 'BraTS2021_01266', 'BraTS2021_01267', 'BraTS2021_01268', 'BraTS2021_01269', 'BraTS2021_01270', 'BraTS2021_01271', 'BraTS2021_01272', 'BraTS2021_01273', 'BraTS2021_01274', 'BraTS2021_01275', 'BraTS2021_01276', 'BraTS2021_01277', 'BraTS2021_01278', 'BraTS2021_01279', 'BraTS2021_01280', 'BraTS2021_01281', 'BraTS2021_01282', 'BraTS2021_01283', 'BraTS2021_01284', 'BraTS2021_01285', 'BraTS2021_01286', 'BraTS2021_01287', 'BraTS2021_01288', 'BraTS2021_01289', 'BraTS2021_01290', 'BraTS2021_01291', 'BraTS2021_01292', 'BraTS2021_01293', 'BraTS2021_01294', 'BraTS2021_01295', 'BraTS2021_01296', 'BraTS2021_01297', 'BraTS2021_01298', 'BraTS2021_01299', 'BraTS2021_01300', 'BraTS2021_01301', 'BraTS2021_01302', 'BraTS2021_01303', 'BraTS2021_01304', 'BraTS2021_01305', 'BraTS2021_01306', 'BraTS2021_01307', 'BraTS2021_01308', 'BraTS2021_01309', 'BraTS2021_01310', 'BraTS2021_01311', 'BraTS2021_01312', 'BraTS2021_01313', 'BraTS2021_01314', 'BraTS2021_01315', 'BraTS2021_01316', 'BraTS2021_01317', 'BraTS2021_01318', 'BraTS2021_01319', 'BraTS2021_01320', 'BraTS2021_01321', 'BraTS2021_01322', 'BraTS2021_01323', 'BraTS2021_01324', 'BraTS2021_01325', 'BraTS2021_01326', 'BraTS2021_01327', 'BraTS2021_01328', 'BraTS2021_01329', 'BraTS2021_01330', 'BraTS2021_01331', 'BraTS2021_01332', 'BraTS2021_01333', 'BraTS2021_01334', 'BraTS2021_01335', 'BraTS2021_01336', 'BraTS2021_01337', 'BraTS2021_01338', 'BraTS2021_01339', 'BraTS2021_01340', 'BraTS2021_01341', 'BraTS2021_01342', 'BraTS2021_01343', 'BraTS2021_01344', 'BraTS2021_01345', 'BraTS2021_01346', 'BraTS2021_01347', 'BraTS2021_01348', 'BraTS2021_01349', 'BraTS2021_01350', 'BraTS2021_01351', 'BraTS2021_01352', 'BraTS2021_01353', 'BraTS2021_01354', 'BraTS2021_01355', 'BraTS2021_01356', 'BraTS2021_01357', 'BraTS2021_01358', 'BraTS2021_01359', 'BraTS2021_01360', 'BraTS2021_01361', 'BraTS2021_01362', 'BraTS2021_01363', 'BraTS2021_01364', 'BraTS2021_01365', 'BraTS2021_01366', 'BraTS2021_01367', 'BraTS2021_01368', 'BraTS2021_01369', 'BraTS2021_01370', 'BraTS2021_01371', 'BraTS2021_01372', 'BraTS2021_01373', 'BraTS2021_01374', 'BraTS2021_01375', 'BraTS2021_01376', 'BraTS2021_01377', 'BraTS2021_01378', 'BraTS2021_01379', 'BraTS2021_01380', 'BraTS2021_01381', 'BraTS2021_01382', 'BraTS2021_01383', 'BraTS2021_01384', 'BraTS2021_01385', 'BraTS2021_01386', 'BraTS2021_01387', 'BraTS2021_01388', 'BraTS2021_01389', 'BraTS2021_01390', 'BraTS2021_01391', 'BraTS2021_01392', 'BraTS2021_01393', 'BraTS2021_01394', 'BraTS2021_01395', 'BraTS2021_01396', 'BraTS2021_01397', 'BraTS2021_01398', 'BraTS2021_01399', 'BraTS2021_01400', 'BraTS2021_01401', 'BraTS2021_01402', 'BraTS2021_01403', 'BraTS2021_01404', 'BraTS2021_01405', 'BraTS2021_01406', 'BraTS2021_01407', 'BraTS2021_01408', 'BraTS2021_01409', 'BraTS2021_01410', 'BraTS2021_01411', 'BraTS2021_01412', 'BraTS2021_01413', 'BraTS2021_01414', 'BraTS2021_01415', 'BraTS2021_01416', 'BraTS2021_01417', 'BraTS2021_01418', 'BraTS2021_01419', 'BraTS2021_01420', 'BraTS2021_01421', 'BraTS2021_01422', 'BraTS2021_01423', 'BraTS2021_01424', 'BraTS2021_01425', 'BraTS2021_01426', 'BraTS2021_01427', 'BraTS2021_01428', 'BraTS2021_01429', 'BraTS2021_01430', 'BraTS2021_01431', 'BraTS2021_01432', 'BraTS2021_01433', 'BraTS2021_01434', 'BraTS2021_01435', 'BraTS2021_01436', 'BraTS2021_01437', 'BraTS2021_01438', 'BraTS2021_01439', 'BraTS2021_01440', 'BraTS2021_01441', 'BraTS2021_01442', 'BraTS2021_01443', 'BraTS2021_01444', 'BraTS2021_01445', 'BraTS2021_01446', 'BraTS2021_01447', 'BraTS2021_01448', 'BraTS2021_01449', 'BraTS2021_01450', 'BraTS2021_01451', 'BraTS2021_01452', 'BraTS2021_01453', 'BraTS2021_01454', 'BraTS2021_01455', 'BraTS2021_01456', 'BraTS2021_01457', 'BraTS2021_01458', 'BraTS2021_01459', 'BraTS2021_01460', 'BraTS2021_01461', 'BraTS2021_01462', 'BraTS2021_01463', 'BraTS2021_01464', 'BraTS2021_01465', 'BraTS2021_01466', 'BraTS2021_01467', 'BraTS2021_01468', 'BraTS2021_01469', 'BraTS2021_01470', 'BraTS2021_01471', 'BraTS2021_01472', 'BraTS2021_01473', 'BraTS2021_01474', 'BraTS2021_01475', 'BraTS2021_01476', 'BraTS2021_01477', 'BraTS2021_01478', 'BraTS2021_01479', 'BraTS2021_01480', 'BraTS2021_01481', 'BraTS2021_01482', 'BraTS2021_01483', 'BraTS2021_01484', 'BraTS2021_01485', 'BraTS2021_01486', 'BraTS2021_01487', 'BraTS2021_01488', 'BraTS2021_01489', 'BraTS2021_01490', 'BraTS2021_01491', 'BraTS2021_01492', 'BraTS2021_01493', 'BraTS2021_01494', 'BraTS2021_01495', 'BraTS2021_01496', 'BraTS2021_01497', 'BraTS2021_01498', 'BraTS2021_01499', 'BraTS2021_01500', 'BraTS2021_01501', 'BraTS2021_01502', 'BraTS2021_01503', 'BraTS2021_01504', 'BraTS2021_01505', 'BraTS2021_01506', 'BraTS2021_01507', 'BraTS2021_01508', 'BraTS2021_01509', 'BraTS2021_01510', 'BraTS2021_01511', 'BraTS2021_01512', 'BraTS2021_01513', 'BraTS2021_01514', 'BraTS2021_01515', 'BraTS2021_01516', 'BraTS2021_01517', 'BraTS2021_01518', 'BraTS2021_01519', 'BraTS2021_01520', 'BraTS2021_01521', 'BraTS2021_01522', 'BraTS2021_01523', 'BraTS2021_01524', 'BraTS2021_01525', 'BraTS2021_01526', 'BraTS2021_01527', 'BraTS2021_01528', 'BraTS2021_01529', 'BraTS2021_01530', 'BraTS2021_01531', 'BraTS2021_01532', 'BraTS2021_01533', 'BraTS2021_01534', 'BraTS2021_01535', 'BraTS2021_01536', 'BraTS2021_01537', 'BraTS2021_01538', 'BraTS2021_01539', 'BraTS2021_01540', 'BraTS2021_01541', 'BraTS2021_01542', 'BraTS2021_01543', 'BraTS2021_01544', 'BraTS2021_01545', 'BraTS2021_01546', 'BraTS2021_01547', 'BraTS2021_01548', 'BraTS2021_01549', 'BraTS2021_01550', 'BraTS2021_01551', 'BraTS2021_01552', 'BraTS2021_01553', 'BraTS2021_01554', 'BraTS2021_01555', 'BraTS2021_01556', 'BraTS2021_01557', 'BraTS2021_01558', 'BraTS2021_01559', 'BraTS2021_01560', 'BraTS2021_01561', 'BraTS2021_01562', 'BraTS2021_01563', 'BraTS2021_01564', 'BraTS2021_01565', 'BraTS2021_01566', 'BraTS2021_01567', 'BraTS2021_01568', 'BraTS2021_01569', 'BraTS2021_01570', 'BraTS2021_01571', 'BraTS2021_01572', 'BraTS2021_01573', 'BraTS2021_01574', 'BraTS2021_01575', 'BraTS2021_01576', 'BraTS2021_01577', 'BraTS2021_01578', 'BraTS2021_01579', 'BraTS2021_01580', 'BraTS2021_01581', 'BraTS2021_01582', 'BraTS2021_01583', 'BraTS2021_01584', 'BraTS2021_01585', 'BraTS2021_01586', 'BraTS2021_01587', 'BraTS2021_01588', 'BraTS2021_01589', 'BraTS2021_01590', 'BraTS2021_01591', 'BraTS2021_01592', 'BraTS2021_01593', 'BraTS2021_01594', 'BraTS2021_01595', 'BraTS2021_01596', 'BraTS2021_01597', 'BraTS2021_01598', 'BraTS2021_01599', 'BraTS2021_01600', 'BraTS2021_01601', 'BraTS2021_01602', 'BraTS2021_01603', 'BraTS2021_01604', 'BraTS2021_01605', 'BraTS2021_01606', 'BraTS2021_01607', 'BraTS2021_01608', 'BraTS2021_01609', 'BraTS2021_01610', 'BraTS2021_01611', 'BraTS2021_01612', 'BraTS2021_01613', 'BraTS2021_01614', 'BraTS2021_01615', 'BraTS2021_01616', 'BraTS2021_01617', 'BraTS2021_01618', 'BraTS2021_01619', 'BraTS2021_01620', 'BraTS2021_01621', 'BraTS2021_01622', 'BraTS2021_01623', 'BraTS2021_01624', 'BraTS2021_01625', 'BraTS2021_01626', 'BraTS2021_01627', 'BraTS2021_01628', 'BraTS2021_01629', 'BraTS2021_01630', 'BraTS2021_01631', 'BraTS2021_01632', 'BraTS2021_01633', 'BraTS2021_01634', 'BraTS2021_01635', 'BraTS2021_01636', 'BraTS2021_01637', 'BraTS2021_01638', 'BraTS2021_01639', 'BraTS2021_01640', 'BraTS2021_01641', 'BraTS2021_01642', 'BraTS2021_01643', 'BraTS2021_01644', 'BraTS2021_01645', 'BraTS2021_01646', 'BraTS2021_01647', 'BraTS2021_01648', 'BraTS2021_01649', 'BraTS2021_01650', 'BraTS2021_01651', 'BraTS2021_01652', 'BraTS2021_01653', 'BraTS2021_01654', 'BraTS2021_01655', 'BraTS2021_01656', 'BraTS2021_01657', 'BraTS2021_01658', 'BraTS2021_01659', 'BraTS2021_01660', 'BraTS2021_01661', 'BraTS2021_01662', 'BraTS2021_01663', 'BraTS2021_01664', 'BraTS2021_01665', 'BraTS2021_01666']\n"
          ]
        }
      ]
    },
    {
      "cell_type": "code",
      "source": [
        "import os\n",
        "\n",
        "all_patients = sorted(os.listdir(extract_path))\n",
        "selected_patients = all_patients[:200]\n",
        "\n",
        "print(f\"Selected {len(selected_patients)} patients\")\n",
        "\n"
      ],
      "metadata": {
        "id": "Li30kwDAsVsV",
        "colab": {
          "base_uri": "https://localhost:8080/"
        },
        "outputId": "f81b4eb9-9db0-4b2a-b805-97f0b9f20b2e"
      },
      "execution_count": 7,
      "outputs": [
        {
          "output_type": "stream",
          "name": "stdout",
          "text": [
            "Selected 200 patients\n"
          ]
        }
      ]
    },
    {
      "cell_type": "code",
      "source": [
        "folders = sorted([\n",
        "    f for f in os.listdir(extract_path)\n",
        "    if os.path.isdir(os.path.join(extract_path, f))\n",
        "])\n",
        "\n",
        "first_patient = os.path.join(extract_path, folders[0])\n",
        "print(\"Files in first patient folder:\", os.listdir(first_patient))\n"
      ],
      "metadata": {
        "id": "pbKlDjFGsuNp",
        "colab": {
          "base_uri": "https://localhost:8080/"
        },
        "outputId": "490bb8ad-8da2-4de2-9f52-7e001267a1a2"
      },
      "execution_count": 8,
      "outputs": [
        {
          "output_type": "stream",
          "name": "stdout",
          "text": [
            "Files in first patient folder: ['BraTS2021_00000_t1.nii.gz', 'BraTS2021_00000_t2.nii.gz', 'BraTS2021_00000_flair.nii.gz', 'BraTS2021_00000_seg.nii.gz', 'BraTS2021_00000_t1ce.nii.gz']\n"
          ]
        }
      ]
    },
    {
      "cell_type": "code",
      "source": [
        "image_paths = []\n",
        "mask_paths = []\n",
        "\n",
        "for patient in selected_patients:\n",
        "    image_path = os.path.join(extract_path, patient, f\"{patient}_flair.nii.gz\")\n",
        "    mask_path = os.path.join(extract_path, patient, f\"{patient}_seg.nii.gz\")\n",
        "    if os.path.exists(image_path) and os.path.exists(mask_path):\n",
        "        image_paths.append(image_path)\n",
        "        mask_paths.append(mask_path)\n"
      ],
      "metadata": {
        "id": "vdeQPuhts2SU"
      },
      "execution_count": 9,
      "outputs": []
    },
    {
      "cell_type": "code",
      "source": [
        "from torch.utils.data import Dataset\n",
        "from skimage.transform import resize\n",
        "import nibabel as nib\n",
        "import torch\n",
        "import numpy as np\n",
        "import albumentations as A\n",
        "\n",
        "class BraTSDataset(Dataset):\n",
        "    def __init__(self, image_paths, mask_paths, is_train=True):\n",
        "        self.image_paths = image_paths\n",
        "        self.mask_paths = mask_paths\n",
        "        self.is_train = is_train\n",
        "\n",
        "        if self.is_train:\n",
        "            self.transform = A.Compose([\n",
        "                A.HorizontalFlip(p=0.5),\n",
        "                A.VerticalFlip(p=0.5),\n",
        "                A.RandomRotate90(p=0.5),\n",
        "                A.RandomBrightnessContrast(p=0.2),\n",
        "                A.ShiftScaleRotate(shift_limit=0.05, scale_limit=0.1, rotate_limit=15, p=0.5),\n",
        "            ])\n",
        "        else:\n",
        "            self.transform = None\n",
        "\n",
        "    def __len__(self):\n",
        "        return len(self.image_paths)\n",
        "\n",
        "    def __getitem__(self, idx):\n",
        "        image = nib.load(self.image_paths[idx]).get_fdata()\n",
        "        mask = nib.load(self.mask_paths[idx]).get_fdata()\n",
        "\n",
        "        slice_index = image.shape[2] // 2\n",
        "        image_slice = image[:, :, slice_index]\n",
        "        mask_slice = mask[:, :, slice_index]\n",
        "\n",
        "        mask_slice = (mask_slice > 0).astype(np.float32)\n",
        "\n",
        "        image_resized = resize(image_slice, (128, 128), preserve_range=True, mode='constant')\n",
        "        mask_resized  = resize(mask_slice,  (128, 128), preserve_range=True, mode='constant', order=0)\n",
        "        mask_resized  = (mask_resized > 0.5).astype(np.float32)\n",
        "\n",
        "        image_resized = (image_resized - image_resized.min()) / (image_resized.max() - image_resized.min() + 1e-8)\n",
        "\n",
        "\n",
        "        image_np = image_resized.astype(np.float32)[..., np.newaxis]\n",
        "        mask_np  = mask_resized.astype(np.float32)[..., np.newaxis]\n",
        "\n",
        "        if self.transform:\n",
        "            augmented = self.transform(image=image_np, mask=mask_np)\n",
        "            image_np, mask_np = augmented['image'], augmented['mask']\n",
        "\n",
        "\n",
        "        image_tensor = torch.tensor(image_np).permute(2, 0, 1)\n",
        "        mask_tensor  = torch.tensor(mask_np).permute(2, 0, 1)\n",
        "\n",
        "        return image_tensor, mask_tensor\n"
      ],
      "metadata": {
        "id": "qGqkB3KTtCQz"
      },
      "execution_count": 10,
      "outputs": []
    },
    {
      "cell_type": "code",
      "source": [
        "from torch.utils.data import DataLoader\n",
        "\n",
        "split = int(0.9 * 200)\n",
        "\n",
        "train_dataset = BraTSDataset(image_paths[:split], mask_paths[:split])\n",
        "test_dataset  = BraTSDataset(image_paths[split:200], mask_paths[split:200])\n",
        "\n",
        "train_loader = DataLoader(\n",
        "    train_dataset,\n",
        "    batch_size=8,\n",
        "    shuffle=True,\n",
        "    num_workers=2,\n",
        "    pin_memory=True\n",
        ")\n",
        "\n",
        "test_loader = DataLoader(\n",
        "    test_dataset,\n",
        "    batch_size=4,\n",
        "    shuffle=False\n",
        ")\n",
        "\n",
        "for x, y in train_loader:\n",
        "    print(\"Image batch:\", x.shape)\n",
        "    print(\"Mask batch:\", y.shape)\n",
        "    break\n"
      ],
      "metadata": {
        "id": "EcZWeizrtEKx",
        "colab": {
          "base_uri": "https://localhost:8080/"
        },
        "outputId": "95059f0b-2ff5-4db5-c518-27ba37e9ccc0"
      },
      "execution_count": 11,
      "outputs": [
        {
          "output_type": "stream",
          "name": "stdout",
          "text": [
            "Image batch: torch.Size([8, 1, 128, 128])\n",
            "Mask batch: torch.Size([8, 1, 128, 128])\n"
          ]
        }
      ]
    },
    {
      "cell_type": "code",
      "source": [
        "import torch\n",
        "import segmentation_models_pytorch as smp\n",
        "\n",
        "\n",
        "device = torch.device(\"cuda\" if torch.cuda.is_available() else \"cpu\")\n",
        "\n",
        "model = smp.UnetPlusPlus(\n",
        "    encoder_name=\"resnet34\",\n",
        "    encoder_weights=\"imagenet\",\n",
        "    in_channels=1,\n",
        "    classes=1\n",
        ")\n",
        "\n",
        "model.to(device)\n"
      ],
      "metadata": {
        "id": "25xHJLiCteh6",
        "colab": {
          "base_uri": "https://localhost:8080/"
        },
        "outputId": "26f1ad49-c73d-4add-a7ae-034941c529ea"
      },
      "execution_count": 12,
      "outputs": [
        {
          "output_type": "stream",
          "name": "stderr",
          "text": [
            "/usr/local/lib/python3.11/dist-packages/huggingface_hub/utils/_auth.py:94: UserWarning: \n",
            "The secret `HF_TOKEN` does not exist in your Colab secrets.\n",
            "To authenticate with the Hugging Face Hub, create a token in your settings tab (https://huggingface.co/settings/tokens), set it as secret in your Google Colab and restart your session.\n",
            "You will be able to reuse this secret in all of your notebooks.\n",
            "Please note that authentication is recommended but still optional to access public models or datasets.\n",
            "  warnings.warn(\n"
          ]
        },
        {
          "output_type": "execute_result",
          "data": {
            "text/plain": [
              "UnetPlusPlus(\n",
              "  (encoder): ResNetEncoder(\n",
              "    (conv1): Conv2d(1, 64, kernel_size=(7, 7), stride=(2, 2), padding=(3, 3), bias=False)\n",
              "    (bn1): BatchNorm2d(64, eps=1e-05, momentum=0.1, affine=True, track_running_stats=True)\n",
              "    (relu): ReLU(inplace=True)\n",
              "    (maxpool): MaxPool2d(kernel_size=3, stride=2, padding=1, dilation=1, ceil_mode=False)\n",
              "    (layer1): Sequential(\n",
              "      (0): BasicBlock(\n",
              "        (conv1): Conv2d(64, 64, kernel_size=(3, 3), stride=(1, 1), padding=(1, 1), bias=False)\n",
              "        (bn1): BatchNorm2d(64, eps=1e-05, momentum=0.1, affine=True, track_running_stats=True)\n",
              "        (relu): ReLU(inplace=True)\n",
              "        (conv2): Conv2d(64, 64, kernel_size=(3, 3), stride=(1, 1), padding=(1, 1), bias=False)\n",
              "        (bn2): BatchNorm2d(64, eps=1e-05, momentum=0.1, affine=True, track_running_stats=True)\n",
              "      )\n",
              "      (1): BasicBlock(\n",
              "        (conv1): Conv2d(64, 64, kernel_size=(3, 3), stride=(1, 1), padding=(1, 1), bias=False)\n",
              "        (bn1): BatchNorm2d(64, eps=1e-05, momentum=0.1, affine=True, track_running_stats=True)\n",
              "        (relu): ReLU(inplace=True)\n",
              "        (conv2): Conv2d(64, 64, kernel_size=(3, 3), stride=(1, 1), padding=(1, 1), bias=False)\n",
              "        (bn2): BatchNorm2d(64, eps=1e-05, momentum=0.1, affine=True, track_running_stats=True)\n",
              "      )\n",
              "      (2): BasicBlock(\n",
              "        (conv1): Conv2d(64, 64, kernel_size=(3, 3), stride=(1, 1), padding=(1, 1), bias=False)\n",
              "        (bn1): BatchNorm2d(64, eps=1e-05, momentum=0.1, affine=True, track_running_stats=True)\n",
              "        (relu): ReLU(inplace=True)\n",
              "        (conv2): Conv2d(64, 64, kernel_size=(3, 3), stride=(1, 1), padding=(1, 1), bias=False)\n",
              "        (bn2): BatchNorm2d(64, eps=1e-05, momentum=0.1, affine=True, track_running_stats=True)\n",
              "      )\n",
              "    )\n",
              "    (layer2): Sequential(\n",
              "      (0): BasicBlock(\n",
              "        (conv1): Conv2d(64, 128, kernel_size=(3, 3), stride=(2, 2), padding=(1, 1), bias=False)\n",
              "        (bn1): BatchNorm2d(128, eps=1e-05, momentum=0.1, affine=True, track_running_stats=True)\n",
              "        (relu): ReLU(inplace=True)\n",
              "        (conv2): Conv2d(128, 128, kernel_size=(3, 3), stride=(1, 1), padding=(1, 1), bias=False)\n",
              "        (bn2): BatchNorm2d(128, eps=1e-05, momentum=0.1, affine=True, track_running_stats=True)\n",
              "        (downsample): Sequential(\n",
              "          (0): Conv2d(64, 128, kernel_size=(1, 1), stride=(2, 2), bias=False)\n",
              "          (1): BatchNorm2d(128, eps=1e-05, momentum=0.1, affine=True, track_running_stats=True)\n",
              "        )\n",
              "      )\n",
              "      (1): BasicBlock(\n",
              "        (conv1): Conv2d(128, 128, kernel_size=(3, 3), stride=(1, 1), padding=(1, 1), bias=False)\n",
              "        (bn1): BatchNorm2d(128, eps=1e-05, momentum=0.1, affine=True, track_running_stats=True)\n",
              "        (relu): ReLU(inplace=True)\n",
              "        (conv2): Conv2d(128, 128, kernel_size=(3, 3), stride=(1, 1), padding=(1, 1), bias=False)\n",
              "        (bn2): BatchNorm2d(128, eps=1e-05, momentum=0.1, affine=True, track_running_stats=True)\n",
              "      )\n",
              "      (2): BasicBlock(\n",
              "        (conv1): Conv2d(128, 128, kernel_size=(3, 3), stride=(1, 1), padding=(1, 1), bias=False)\n",
              "        (bn1): BatchNorm2d(128, eps=1e-05, momentum=0.1, affine=True, track_running_stats=True)\n",
              "        (relu): ReLU(inplace=True)\n",
              "        (conv2): Conv2d(128, 128, kernel_size=(3, 3), stride=(1, 1), padding=(1, 1), bias=False)\n",
              "        (bn2): BatchNorm2d(128, eps=1e-05, momentum=0.1, affine=True, track_running_stats=True)\n",
              "      )\n",
              "      (3): BasicBlock(\n",
              "        (conv1): Conv2d(128, 128, kernel_size=(3, 3), stride=(1, 1), padding=(1, 1), bias=False)\n",
              "        (bn1): BatchNorm2d(128, eps=1e-05, momentum=0.1, affine=True, track_running_stats=True)\n",
              "        (relu): ReLU(inplace=True)\n",
              "        (conv2): Conv2d(128, 128, kernel_size=(3, 3), stride=(1, 1), padding=(1, 1), bias=False)\n",
              "        (bn2): BatchNorm2d(128, eps=1e-05, momentum=0.1, affine=True, track_running_stats=True)\n",
              "      )\n",
              "    )\n",
              "    (layer3): Sequential(\n",
              "      (0): BasicBlock(\n",
              "        (conv1): Conv2d(128, 256, kernel_size=(3, 3), stride=(2, 2), padding=(1, 1), bias=False)\n",
              "        (bn1): BatchNorm2d(256, eps=1e-05, momentum=0.1, affine=True, track_running_stats=True)\n",
              "        (relu): ReLU(inplace=True)\n",
              "        (conv2): Conv2d(256, 256, kernel_size=(3, 3), stride=(1, 1), padding=(1, 1), bias=False)\n",
              "        (bn2): BatchNorm2d(256, eps=1e-05, momentum=0.1, affine=True, track_running_stats=True)\n",
              "        (downsample): Sequential(\n",
              "          (0): Conv2d(128, 256, kernel_size=(1, 1), stride=(2, 2), bias=False)\n",
              "          (1): BatchNorm2d(256, eps=1e-05, momentum=0.1, affine=True, track_running_stats=True)\n",
              "        )\n",
              "      )\n",
              "      (1): BasicBlock(\n",
              "        (conv1): Conv2d(256, 256, kernel_size=(3, 3), stride=(1, 1), padding=(1, 1), bias=False)\n",
              "        (bn1): BatchNorm2d(256, eps=1e-05, momentum=0.1, affine=True, track_running_stats=True)\n",
              "        (relu): ReLU(inplace=True)\n",
              "        (conv2): Conv2d(256, 256, kernel_size=(3, 3), stride=(1, 1), padding=(1, 1), bias=False)\n",
              "        (bn2): BatchNorm2d(256, eps=1e-05, momentum=0.1, affine=True, track_running_stats=True)\n",
              "      )\n",
              "      (2): BasicBlock(\n",
              "        (conv1): Conv2d(256, 256, kernel_size=(3, 3), stride=(1, 1), padding=(1, 1), bias=False)\n",
              "        (bn1): BatchNorm2d(256, eps=1e-05, momentum=0.1, affine=True, track_running_stats=True)\n",
              "        (relu): ReLU(inplace=True)\n",
              "        (conv2): Conv2d(256, 256, kernel_size=(3, 3), stride=(1, 1), padding=(1, 1), bias=False)\n",
              "        (bn2): BatchNorm2d(256, eps=1e-05, momentum=0.1, affine=True, track_running_stats=True)\n",
              "      )\n",
              "      (3): BasicBlock(\n",
              "        (conv1): Conv2d(256, 256, kernel_size=(3, 3), stride=(1, 1), padding=(1, 1), bias=False)\n",
              "        (bn1): BatchNorm2d(256, eps=1e-05, momentum=0.1, affine=True, track_running_stats=True)\n",
              "        (relu): ReLU(inplace=True)\n",
              "        (conv2): Conv2d(256, 256, kernel_size=(3, 3), stride=(1, 1), padding=(1, 1), bias=False)\n",
              "        (bn2): BatchNorm2d(256, eps=1e-05, momentum=0.1, affine=True, track_running_stats=True)\n",
              "      )\n",
              "      (4): BasicBlock(\n",
              "        (conv1): Conv2d(256, 256, kernel_size=(3, 3), stride=(1, 1), padding=(1, 1), bias=False)\n",
              "        (bn1): BatchNorm2d(256, eps=1e-05, momentum=0.1, affine=True, track_running_stats=True)\n",
              "        (relu): ReLU(inplace=True)\n",
              "        (conv2): Conv2d(256, 256, kernel_size=(3, 3), stride=(1, 1), padding=(1, 1), bias=False)\n",
              "        (bn2): BatchNorm2d(256, eps=1e-05, momentum=0.1, affine=True, track_running_stats=True)\n",
              "      )\n",
              "      (5): BasicBlock(\n",
              "        (conv1): Conv2d(256, 256, kernel_size=(3, 3), stride=(1, 1), padding=(1, 1), bias=False)\n",
              "        (bn1): BatchNorm2d(256, eps=1e-05, momentum=0.1, affine=True, track_running_stats=True)\n",
              "        (relu): ReLU(inplace=True)\n",
              "        (conv2): Conv2d(256, 256, kernel_size=(3, 3), stride=(1, 1), padding=(1, 1), bias=False)\n",
              "        (bn2): BatchNorm2d(256, eps=1e-05, momentum=0.1, affine=True, track_running_stats=True)\n",
              "      )\n",
              "    )\n",
              "    (layer4): Sequential(\n",
              "      (0): BasicBlock(\n",
              "        (conv1): Conv2d(256, 512, kernel_size=(3, 3), stride=(2, 2), padding=(1, 1), bias=False)\n",
              "        (bn1): BatchNorm2d(512, eps=1e-05, momentum=0.1, affine=True, track_running_stats=True)\n",
              "        (relu): ReLU(inplace=True)\n",
              "        (conv2): Conv2d(512, 512, kernel_size=(3, 3), stride=(1, 1), padding=(1, 1), bias=False)\n",
              "        (bn2): BatchNorm2d(512, eps=1e-05, momentum=0.1, affine=True, track_running_stats=True)\n",
              "        (downsample): Sequential(\n",
              "          (0): Conv2d(256, 512, kernel_size=(1, 1), stride=(2, 2), bias=False)\n",
              "          (1): BatchNorm2d(512, eps=1e-05, momentum=0.1, affine=True, track_running_stats=True)\n",
              "        )\n",
              "      )\n",
              "      (1): BasicBlock(\n",
              "        (conv1): Conv2d(512, 512, kernel_size=(3, 3), stride=(1, 1), padding=(1, 1), bias=False)\n",
              "        (bn1): BatchNorm2d(512, eps=1e-05, momentum=0.1, affine=True, track_running_stats=True)\n",
              "        (relu): ReLU(inplace=True)\n",
              "        (conv2): Conv2d(512, 512, kernel_size=(3, 3), stride=(1, 1), padding=(1, 1), bias=False)\n",
              "        (bn2): BatchNorm2d(512, eps=1e-05, momentum=0.1, affine=True, track_running_stats=True)\n",
              "      )\n",
              "      (2): BasicBlock(\n",
              "        (conv1): Conv2d(512, 512, kernel_size=(3, 3), stride=(1, 1), padding=(1, 1), bias=False)\n",
              "        (bn1): BatchNorm2d(512, eps=1e-05, momentum=0.1, affine=True, track_running_stats=True)\n",
              "        (relu): ReLU(inplace=True)\n",
              "        (conv2): Conv2d(512, 512, kernel_size=(3, 3), stride=(1, 1), padding=(1, 1), bias=False)\n",
              "        (bn2): BatchNorm2d(512, eps=1e-05, momentum=0.1, affine=True, track_running_stats=True)\n",
              "      )\n",
              "    )\n",
              "  )\n",
              "  (decoder): UnetPlusPlusDecoder(\n",
              "    (center): Identity()\n",
              "    (blocks): ModuleDict(\n",
              "      (x_0_0): DecoderBlock(\n",
              "        (conv1): Conv2dReLU(\n",
              "          (0): Conv2d(768, 256, kernel_size=(3, 3), stride=(1, 1), padding=(1, 1), bias=False)\n",
              "          (1): BatchNorm2d(256, eps=1e-05, momentum=0.1, affine=True, track_running_stats=True)\n",
              "          (2): ReLU(inplace=True)\n",
              "        )\n",
              "        (attention1): Attention(\n",
              "          (attention): Identity()\n",
              "        )\n",
              "        (conv2): Conv2dReLU(\n",
              "          (0): Conv2d(256, 256, kernel_size=(3, 3), stride=(1, 1), padding=(1, 1), bias=False)\n",
              "          (1): BatchNorm2d(256, eps=1e-05, momentum=0.1, affine=True, track_running_stats=True)\n",
              "          (2): ReLU(inplace=True)\n",
              "        )\n",
              "        (attention2): Attention(\n",
              "          (attention): Identity()\n",
              "        )\n",
              "      )\n",
              "      (x_0_1): DecoderBlock(\n",
              "        (conv1): Conv2dReLU(\n",
              "          (0): Conv2d(512, 128, kernel_size=(3, 3), stride=(1, 1), padding=(1, 1), bias=False)\n",
              "          (1): BatchNorm2d(128, eps=1e-05, momentum=0.1, affine=True, track_running_stats=True)\n",
              "          (2): ReLU(inplace=True)\n",
              "        )\n",
              "        (attention1): Attention(\n",
              "          (attention): Identity()\n",
              "        )\n",
              "        (conv2): Conv2dReLU(\n",
              "          (0): Conv2d(128, 128, kernel_size=(3, 3), stride=(1, 1), padding=(1, 1), bias=False)\n",
              "          (1): BatchNorm2d(128, eps=1e-05, momentum=0.1, affine=True, track_running_stats=True)\n",
              "          (2): ReLU(inplace=True)\n",
              "        )\n",
              "        (attention2): Attention(\n",
              "          (attention): Identity()\n",
              "        )\n",
              "      )\n",
              "      (x_1_1): DecoderBlock(\n",
              "        (conv1): Conv2dReLU(\n",
              "          (0): Conv2d(384, 128, kernel_size=(3, 3), stride=(1, 1), padding=(1, 1), bias=False)\n",
              "          (1): BatchNorm2d(128, eps=1e-05, momentum=0.1, affine=True, track_running_stats=True)\n",
              "          (2): ReLU(inplace=True)\n",
              "        )\n",
              "        (attention1): Attention(\n",
              "          (attention): Identity()\n",
              "        )\n",
              "        (conv2): Conv2dReLU(\n",
              "          (0): Conv2d(128, 128, kernel_size=(3, 3), stride=(1, 1), padding=(1, 1), bias=False)\n",
              "          (1): BatchNorm2d(128, eps=1e-05, momentum=0.1, affine=True, track_running_stats=True)\n",
              "          (2): ReLU(inplace=True)\n",
              "        )\n",
              "        (attention2): Attention(\n",
              "          (attention): Identity()\n",
              "        )\n",
              "      )\n",
              "      (x_0_2): DecoderBlock(\n",
              "        (conv1): Conv2dReLU(\n",
              "          (0): Conv2d(320, 64, kernel_size=(3, 3), stride=(1, 1), padding=(1, 1), bias=False)\n",
              "          (1): BatchNorm2d(64, eps=1e-05, momentum=0.1, affine=True, track_running_stats=True)\n",
              "          (2): ReLU(inplace=True)\n",
              "        )\n",
              "        (attention1): Attention(\n",
              "          (attention): Identity()\n",
              "        )\n",
              "        (conv2): Conv2dReLU(\n",
              "          (0): Conv2d(64, 64, kernel_size=(3, 3), stride=(1, 1), padding=(1, 1), bias=False)\n",
              "          (1): BatchNorm2d(64, eps=1e-05, momentum=0.1, affine=True, track_running_stats=True)\n",
              "          (2): ReLU(inplace=True)\n",
              "        )\n",
              "        (attention2): Attention(\n",
              "          (attention): Identity()\n",
              "        )\n",
              "      )\n",
              "      (x_1_2): DecoderBlock(\n",
              "        (conv1): Conv2dReLU(\n",
              "          (0): Conv2d(256, 64, kernel_size=(3, 3), stride=(1, 1), padding=(1, 1), bias=False)\n",
              "          (1): BatchNorm2d(64, eps=1e-05, momentum=0.1, affine=True, track_running_stats=True)\n",
              "          (2): ReLU(inplace=True)\n",
              "        )\n",
              "        (attention1): Attention(\n",
              "          (attention): Identity()\n",
              "        )\n",
              "        (conv2): Conv2dReLU(\n",
              "          (0): Conv2d(64, 64, kernel_size=(3, 3), stride=(1, 1), padding=(1, 1), bias=False)\n",
              "          (1): BatchNorm2d(64, eps=1e-05, momentum=0.1, affine=True, track_running_stats=True)\n",
              "          (2): ReLU(inplace=True)\n",
              "        )\n",
              "        (attention2): Attention(\n",
              "          (attention): Identity()\n",
              "        )\n",
              "      )\n",
              "      (x_2_2): DecoderBlock(\n",
              "        (conv1): Conv2dReLU(\n",
              "          (0): Conv2d(192, 64, kernel_size=(3, 3), stride=(1, 1), padding=(1, 1), bias=False)\n",
              "          (1): BatchNorm2d(64, eps=1e-05, momentum=0.1, affine=True, track_running_stats=True)\n",
              "          (2): ReLU(inplace=True)\n",
              "        )\n",
              "        (attention1): Attention(\n",
              "          (attention): Identity()\n",
              "        )\n",
              "        (conv2): Conv2dReLU(\n",
              "          (0): Conv2d(64, 64, kernel_size=(3, 3), stride=(1, 1), padding=(1, 1), bias=False)\n",
              "          (1): BatchNorm2d(64, eps=1e-05, momentum=0.1, affine=True, track_running_stats=True)\n",
              "          (2): ReLU(inplace=True)\n",
              "        )\n",
              "        (attention2): Attention(\n",
              "          (attention): Identity()\n",
              "        )\n",
              "      )\n",
              "      (x_0_3): DecoderBlock(\n",
              "        (conv1): Conv2dReLU(\n",
              "          (0): Conv2d(320, 32, kernel_size=(3, 3), stride=(1, 1), padding=(1, 1), bias=False)\n",
              "          (1): BatchNorm2d(32, eps=1e-05, momentum=0.1, affine=True, track_running_stats=True)\n",
              "          (2): ReLU(inplace=True)\n",
              "        )\n",
              "        (attention1): Attention(\n",
              "          (attention): Identity()\n",
              "        )\n",
              "        (conv2): Conv2dReLU(\n",
              "          (0): Conv2d(32, 32, kernel_size=(3, 3), stride=(1, 1), padding=(1, 1), bias=False)\n",
              "          (1): BatchNorm2d(32, eps=1e-05, momentum=0.1, affine=True, track_running_stats=True)\n",
              "          (2): ReLU(inplace=True)\n",
              "        )\n",
              "        (attention2): Attention(\n",
              "          (attention): Identity()\n",
              "        )\n",
              "      )\n",
              "      (x_1_3): DecoderBlock(\n",
              "        (conv1): Conv2dReLU(\n",
              "          (0): Conv2d(256, 64, kernel_size=(3, 3), stride=(1, 1), padding=(1, 1), bias=False)\n",
              "          (1): BatchNorm2d(64, eps=1e-05, momentum=0.1, affine=True, track_running_stats=True)\n",
              "          (2): ReLU(inplace=True)\n",
              "        )\n",
              "        (attention1): Attention(\n",
              "          (attention): Identity()\n",
              "        )\n",
              "        (conv2): Conv2dReLU(\n",
              "          (0): Conv2d(64, 64, kernel_size=(3, 3), stride=(1, 1), padding=(1, 1), bias=False)\n",
              "          (1): BatchNorm2d(64, eps=1e-05, momentum=0.1, affine=True, track_running_stats=True)\n",
              "          (2): ReLU(inplace=True)\n",
              "        )\n",
              "        (attention2): Attention(\n",
              "          (attention): Identity()\n",
              "        )\n",
              "      )\n",
              "      (x_2_3): DecoderBlock(\n",
              "        (conv1): Conv2dReLU(\n",
              "          (0): Conv2d(192, 64, kernel_size=(3, 3), stride=(1, 1), padding=(1, 1), bias=False)\n",
              "          (1): BatchNorm2d(64, eps=1e-05, momentum=0.1, affine=True, track_running_stats=True)\n",
              "          (2): ReLU(inplace=True)\n",
              "        )\n",
              "        (attention1): Attention(\n",
              "          (attention): Identity()\n",
              "        )\n",
              "        (conv2): Conv2dReLU(\n",
              "          (0): Conv2d(64, 64, kernel_size=(3, 3), stride=(1, 1), padding=(1, 1), bias=False)\n",
              "          (1): BatchNorm2d(64, eps=1e-05, momentum=0.1, affine=True, track_running_stats=True)\n",
              "          (2): ReLU(inplace=True)\n",
              "        )\n",
              "        (attention2): Attention(\n",
              "          (attention): Identity()\n",
              "        )\n",
              "      )\n",
              "      (x_3_3): DecoderBlock(\n",
              "        (conv1): Conv2dReLU(\n",
              "          (0): Conv2d(128, 64, kernel_size=(3, 3), stride=(1, 1), padding=(1, 1), bias=False)\n",
              "          (1): BatchNorm2d(64, eps=1e-05, momentum=0.1, affine=True, track_running_stats=True)\n",
              "          (2): ReLU(inplace=True)\n",
              "        )\n",
              "        (attention1): Attention(\n",
              "          (attention): Identity()\n",
              "        )\n",
              "        (conv2): Conv2dReLU(\n",
              "          (0): Conv2d(64, 64, kernel_size=(3, 3), stride=(1, 1), padding=(1, 1), bias=False)\n",
              "          (1): BatchNorm2d(64, eps=1e-05, momentum=0.1, affine=True, track_running_stats=True)\n",
              "          (2): ReLU(inplace=True)\n",
              "        )\n",
              "        (attention2): Attention(\n",
              "          (attention): Identity()\n",
              "        )\n",
              "      )\n",
              "      (x_0_4): DecoderBlock(\n",
              "        (conv1): Conv2dReLU(\n",
              "          (0): Conv2d(32, 16, kernel_size=(3, 3), stride=(1, 1), padding=(1, 1), bias=False)\n",
              "          (1): BatchNorm2d(16, eps=1e-05, momentum=0.1, affine=True, track_running_stats=True)\n",
              "          (2): ReLU(inplace=True)\n",
              "        )\n",
              "        (attention1): Attention(\n",
              "          (attention): Identity()\n",
              "        )\n",
              "        (conv2): Conv2dReLU(\n",
              "          (0): Conv2d(16, 16, kernel_size=(3, 3), stride=(1, 1), padding=(1, 1), bias=False)\n",
              "          (1): BatchNorm2d(16, eps=1e-05, momentum=0.1, affine=True, track_running_stats=True)\n",
              "          (2): ReLU(inplace=True)\n",
              "        )\n",
              "        (attention2): Attention(\n",
              "          (attention): Identity()\n",
              "        )\n",
              "      )\n",
              "    )\n",
              "  )\n",
              "  (segmentation_head): SegmentationHead(\n",
              "    (0): Conv2d(16, 1, kernel_size=(3, 3), stride=(1, 1), padding=(1, 1))\n",
              "    (1): Identity()\n",
              "    (2): Activation(\n",
              "      (activation): Identity()\n",
              "    )\n",
              "  )\n",
              ")"
            ]
          },
          "metadata": {},
          "execution_count": 12
        }
      ]
    },
    {
      "cell_type": "code",
      "source": [
        "import torch\n",
        "from torch.amp import autocast, GradScaler\n",
        "\n",
        "optimizer = torch.optim.Adam(model.parameters(), lr=1e-4)\n",
        "criterion = torch.nn.BCEWithLogitsLoss()\n",
        "scaler = GradScaler()\n",
        "\n",
        "def train(model, train_loader, epochs=10):\n",
        "    model.train()\n",
        "    for epoch in range(epochs):\n",
        "        total_loss = 0.0\n",
        "        for images, masks in train_loader:\n",
        "            images, masks = images.to(device), masks.to(device)\n",
        "            optimizer.zero_grad()\n",
        "\n",
        "            with autocast(device_type='cuda' if torch.cuda.is_available() else 'cpu'):\n",
        "                outputs = model(images)\n",
        "                loss = criterion(outputs, masks.float())\n",
        "\n",
        "            scaler.scale(loss).backward()\n",
        "            scaler.step(optimizer)\n",
        "            scaler.update()\n",
        "\n",
        "            total_loss += loss.item()\n",
        "\n",
        "        print(f\"Epoch {epoch+1}/{epochs} | Loss: {total_loss:.4f}\")\n",
        "        if (epoch + 1) % 10 == 0:\n",
        "            checkpoint_name = f\"unetpp_epoch{epoch+1}.pth\"\n",
        "            torch.save(model.state_dict(), checkpoint_name)\n",
        "            print(f\"Saved checkpoint: {checkpoint_name}\")\n"
      ],
      "metadata": {
        "id": "-4j-AfWStgDq"
      },
      "execution_count": 13,
      "outputs": []
    },
    {
      "cell_type": "code",
      "source": [
        "for img, mask in train_loader:\n",
        "    print(\"Image - min:\", img.min().item(), \"max:\", img.max().item(), \"mean:\", img.mean().item())\n",
        "    print(\"Mask - unique values:\", torch.unique(mask))\n",
        "    break\n",
        "\n",
        "\n"
      ],
      "metadata": {
        "id": "jcHGNsQOt8Oz",
        "colab": {
          "base_uri": "https://localhost:8080/"
        },
        "outputId": "a30ab4ce-4107-4b40-fa28-438b18022881"
      },
      "execution_count": 14,
      "outputs": [
        {
          "output_type": "stream",
          "name": "stdout",
          "text": [
            "Image - min: 0.0 max: 1.0 mean: 0.10998942703008652\n",
            "Mask - unique values: tensor([0., 1.])\n"
          ]
        }
      ]
    },
    {
      "cell_type": "code",
      "source": [
        "train(model, train_loader, epochs=100)\n",
        "\n"
      ],
      "metadata": {
        "id": "KBld8SzawKUu",
        "colab": {
          "base_uri": "https://localhost:8080/"
        },
        "outputId": "20401756-11d5-4863-c6b0-7fcf6677ec60"
      },
      "execution_count": 15,
      "outputs": [
        {
          "output_type": "stream",
          "name": "stdout",
          "text": [
            "Epoch 1/100 | Loss: 13.1382\n",
            "Epoch 2/100 | Loss: 9.7053\n",
            "Epoch 3/100 | Loss: 7.6881\n",
            "Epoch 4/100 | Loss: 6.3357\n",
            "Epoch 5/100 | Loss: 5.4783\n",
            "Epoch 6/100 | Loss: 4.9508\n",
            "Epoch 7/100 | Loss: 4.5672\n",
            "Epoch 8/100 | Loss: 4.1551\n",
            "Epoch 9/100 | Loss: 3.9262\n",
            "Epoch 10/100 | Loss: 3.6379\n",
            "Saved checkpoint: unetpp_epoch10.pth\n",
            "Epoch 11/100 | Loss: 3.5019\n",
            "Epoch 12/100 | Loss: 3.2106\n",
            "Epoch 13/100 | Loss: 2.9920\n",
            "Epoch 14/100 | Loss: 2.7886\n",
            "Epoch 15/100 | Loss: 2.6207\n",
            "Epoch 16/100 | Loss: 2.4520\n",
            "Epoch 17/100 | Loss: 2.3453\n",
            "Epoch 18/100 | Loss: 2.2156\n",
            "Epoch 19/100 | Loss: 2.0821\n",
            "Epoch 20/100 | Loss: 1.9781\n",
            "Saved checkpoint: unetpp_epoch20.pth\n",
            "Epoch 21/100 | Loss: 1.8853\n",
            "Epoch 22/100 | Loss: 1.7745\n",
            "Epoch 23/100 | Loss: 1.6962\n",
            "Epoch 24/100 | Loss: 1.6428\n",
            "Epoch 25/100 | Loss: 1.5381\n",
            "Epoch 26/100 | Loss: 1.4741\n",
            "Epoch 27/100 | Loss: 1.4189\n",
            "Epoch 28/100 | Loss: 1.3710\n",
            "Epoch 29/100 | Loss: 1.3121\n",
            "Epoch 30/100 | Loss: 1.3138\n",
            "Saved checkpoint: unetpp_epoch30.pth\n",
            "Epoch 31/100 | Loss: 1.2304\n",
            "Epoch 32/100 | Loss: 1.1702\n",
            "Epoch 33/100 | Loss: 1.1022\n",
            "Epoch 34/100 | Loss: 1.0804\n",
            "Epoch 35/100 | Loss: 1.0429\n",
            "Epoch 36/100 | Loss: 1.0041\n",
            "Epoch 37/100 | Loss: 0.9575\n",
            "Epoch 38/100 | Loss: 0.9429\n",
            "Epoch 39/100 | Loss: 0.9014\n",
            "Epoch 40/100 | Loss: 0.8930\n",
            "Saved checkpoint: unetpp_epoch40.pth\n",
            "Epoch 41/100 | Loss: 0.8842\n",
            "Epoch 42/100 | Loss: 0.8692\n",
            "Epoch 43/100 | Loss: 0.8515\n",
            "Epoch 44/100 | Loss: 0.8073\n",
            "Epoch 45/100 | Loss: 0.7662\n",
            "Epoch 46/100 | Loss: 0.7425\n",
            "Epoch 47/100 | Loss: 0.7371\n",
            "Epoch 48/100 | Loss: 0.7356\n",
            "Epoch 49/100 | Loss: 0.7061\n",
            "Epoch 50/100 | Loss: 0.7116\n",
            "Saved checkpoint: unetpp_epoch50.pth\n",
            "Epoch 51/100 | Loss: 0.6782\n",
            "Epoch 52/100 | Loss: 0.6652\n",
            "Epoch 53/100 | Loss: 0.6408\n",
            "Epoch 54/100 | Loss: 0.6269\n",
            "Epoch 55/100 | Loss: 0.6155\n",
            "Epoch 56/100 | Loss: 0.6109\n",
            "Epoch 57/100 | Loss: 0.5883\n",
            "Epoch 58/100 | Loss: 0.5873\n",
            "Epoch 59/100 | Loss: 0.5883\n",
            "Epoch 60/100 | Loss: 0.5552\n",
            "Saved checkpoint: unetpp_epoch60.pth\n",
            "Epoch 61/100 | Loss: 0.5483\n",
            "Epoch 62/100 | Loss: 0.5262\n",
            "Epoch 63/100 | Loss: 0.5251\n",
            "Epoch 64/100 | Loss: 0.5292\n",
            "Epoch 65/100 | Loss: 0.5268\n",
            "Epoch 66/100 | Loss: 0.5025\n",
            "Epoch 67/100 | Loss: 0.5031\n",
            "Epoch 68/100 | Loss: 0.4767\n",
            "Epoch 69/100 | Loss: 0.4592\n",
            "Epoch 70/100 | Loss: 0.4541\n",
            "Saved checkpoint: unetpp_epoch70.pth\n",
            "Epoch 71/100 | Loss: 0.4481\n",
            "Epoch 72/100 | Loss: 0.4430\n",
            "Epoch 73/100 | Loss: 0.4354\n",
            "Epoch 74/100 | Loss: 0.4353\n",
            "Epoch 75/100 | Loss: 0.4136\n",
            "Epoch 76/100 | Loss: 0.4082\n",
            "Epoch 77/100 | Loss: 0.4142\n",
            "Epoch 78/100 | Loss: 0.4097\n",
            "Epoch 79/100 | Loss: 0.3965\n",
            "Epoch 80/100 | Loss: 0.4005\n",
            "Saved checkpoint: unetpp_epoch80.pth\n",
            "Epoch 81/100 | Loss: 0.3802\n",
            "Epoch 82/100 | Loss: 0.3765\n",
            "Epoch 83/100 | Loss: 0.3798\n",
            "Epoch 84/100 | Loss: 0.3878\n",
            "Epoch 85/100 | Loss: 0.3775\n",
            "Epoch 86/100 | Loss: 0.3684\n",
            "Epoch 87/100 | Loss: 0.3617\n",
            "Epoch 88/100 | Loss: 0.3570\n",
            "Epoch 89/100 | Loss: 0.3616\n",
            "Epoch 90/100 | Loss: 0.3631\n",
            "Saved checkpoint: unetpp_epoch90.pth\n",
            "Epoch 91/100 | Loss: 0.3519\n",
            "Epoch 92/100 | Loss: 0.3465\n",
            "Epoch 93/100 | Loss: 0.3575\n",
            "Epoch 94/100 | Loss: 0.3823\n",
            "Epoch 95/100 | Loss: 0.3406\n",
            "Epoch 96/100 | Loss: 0.3460\n",
            "Epoch 97/100 | Loss: 0.3340\n",
            "Epoch 98/100 | Loss: 0.3362\n",
            "Epoch 99/100 | Loss: 0.3278\n",
            "Epoch 100/100 | Loss: 0.3147\n",
            "Saved checkpoint: unetpp_epoch100.pth\n"
          ]
        }
      ]
    },
    {
      "cell_type": "code",
      "source": [
        "import matplotlib.pyplot as plt\n",
        "\n",
        "model.eval()\n",
        "shown = 0\n",
        "num_images = 3\n",
        "\n",
        "with torch.no_grad():\n",
        "    for images, masks in test_loader:\n",
        "        images = images.to(device)\n",
        "        masks = masks.to(device)\n",
        "\n",
        "        outputs = model(images)\n",
        "        preds = torch.sigmoid(outputs)\n",
        "        preds = (preds > 0.5).float()\n",
        "\n",
        "        for i in range(images.size(0)):\n",
        "            if shown >= num_images:\n",
        "                break\n",
        "\n",
        "            fig, axes = plt.subplots(1, 3, figsize=(12, 4))\n",
        "            axes[0].imshow(images[i, 0].cpu(), cmap='gray')\n",
        "            axes[0].set_title(\"Input\")\n",
        "            axes[1].imshow(masks[i, 0].cpu(), cmap='gray')\n",
        "            axes[1].set_title(\"Ground Truth\")\n",
        "            axes[2].imshow(preds[i, 0].cpu(), cmap='gray')\n",
        "            axes[2].set_title(\"Prediction\")\n",
        "\n",
        "            for ax in axes:\n",
        "                ax.axis('off')\n",
        "\n",
        "            plt.tight_layout()\n",
        "            plt.show()\n",
        "\n",
        "            shown += 1\n",
        "\n",
        "        if shown >= num_images:\n",
        "            break\n"
      ],
      "metadata": {
        "id": "f7Tkgh8ZxsN9",
        "colab": {
          "base_uri": "https://localhost:8080/",
          "height": 424
        },
        "outputId": "34c5f5c6-1854-4d1e-d91c-a80c61c71cdb"
      },
      "execution_count": 16,
      "outputs": [
        {
          "output_type": "display_data",
          "data": {
            "text/plain": [
              "<Figure size 1200x400 with 3 Axes>"
            ],
            "image/png": "[encoded data removed]"
          },
          "metadata": {}
        }
      ]
    },
    {
      "cell_type": "code",
      "source": [
        "def dice_coef(pred, target, smooth=1e-5):\n",
        "    pred = pred.view(-1)\n",
        "    target = target.view(-1)\n",
        "    intersection = (pred * target).sum()\n",
        "    return (2. * intersection + smooth) / (pred.sum() + target.sum() + smooth)\n",
        "\n",
        "def iou_score(pred, target, smooth=1e-5):\n",
        "    pred = pred.view(-1)\n",
        "    target = target.view(-1)\n",
        "    intersection = (pred * target).sum()\n",
        "    union = pred.sum() + target.sum() - intersection\n",
        "    return (intersection + smooth) / (union + smooth)\n"
      ],
      "metadata": {
        "id": "dmlf5q8J3k2x"
      },
      "execution_count": 17,
      "outputs": []
    },
    {
      "cell_type": "code",
      "source": [
        "model.eval()\n",
        "dice_scores = []\n",
        "iou_scores = []\n",
        "\n",
        "with torch.no_grad():\n",
        "    for images, masks in test_loader:\n",
        "        images = images.to(device)\n",
        "        masks = masks.to(device)\n",
        "\n",
        "        outputs = model(images)\n",
        "        preds = torch.sigmoid(outputs)\n",
        "        preds = (preds > 0.5).float()\n",
        "\n",
        "        for pred, mask in zip(preds, masks):\n",
        "            dice = dice_coef(pred, mask)\n",
        "            iou = iou_score(pred, mask)\n",
        "            dice_scores.append(dice.item())\n",
        "            iou_scores.append(iou.item())\n",
        "\n",
        "avg_dice = sum(dice_scores) / len(dice_scores)\n",
        "avg_iou = sum(iou_scores) / len(iou_scores)\n",
        "\n",
        "print(f\"Average Dice Coefficient: {avg_dice:.4f}\")\n",
        "print(f\"Average IoU Score: {avg_iou:.4f}\")"
      ],
      "metadata": {
        "id": "3kvyirEX3sWF",
        "colab": {
          "base_uri": "https://localhost:8080/"
        },
        "outputId": "e06a960a-7462-407d-f059-74f11889f1ab"
      },
      "execution_count": 18,
      "outputs": [
        {
          "output_type": "stream",
          "name": "stdout",
          "text": [
            "Average Dice Coefficient: 0.8230\n",
            "Average IoU Score: 0.7491\n"
          ]
        }
      ]
    },
    {
      "cell_type": "code",
      "source": [
        "from google.colab import files\n",
        "files.download('unet_brats.pth')\n"
      ],
      "metadata": {
        "id": "8QwMX0ooEtwC",
        "colab": {
          "base_uri": "https://localhost:8080/",
          "height": 17
        },
        "outputId": "3964375b-249b-48db-855c-0d354137b91f"
      },
      "execution_count": 21,
      "outputs": [
        {
          "output_type": "display_data",
          "data": {
            "text/plain": [
              "<IPython.core.display.Javascript object>"
            ],
            "application/javascript": [
              "\n",
              "    async function download(id, filename, size) {\n",
              "      if (!google.colab.kernel.accessAllowed) {\n",
              "        return;\n",
              "      }\n",
              "      const div = document.createElement('div');\n",
              "      const label = document.createElement('label');\n",
              "      label.textContent = `Downloading \"${filename}\": `;\n",
              "      div.appendChild(label);\n",
              "      const progress = document.createElement('progress');\n",
              "      progress.max = size;\n",
              "      div.appendChild(progress);\n",
              "      document.body.appendChild(div);\n",
              "\n",
              "      const buffers = [];\n",
              "      let downloaded = 0;\n",
              "\n",
              "      const channel = await google.colab.kernel.comms.open(id);\n",
              "      // Send a message to notify the kernel that we're ready.\n",
              "      channel.send({})\n",
              "\n",
              "      for await (const message of channel.messages) {\n",
              "        // Send a message to notify the kernel that we're ready.\n",
              "        channel.send({})\n",
              "        if (message.buffers) {\n",
              "          for (const buffer of message.buffers) {\n",
              "            buffers.push(buffer);\n",
              "            downloaded += buffer.byteLength;\n",
              "            progress.value = downloaded;\n",
              "          }\n",
              "        }\n",
              "      }\n",
              "      const blob = new Blob(buffers, {type: 'application/binary'});\n",
              "      const a = document.createElement('a');\n",
              "      a.href = window.URL.createObjectURL(blob);\n",
              "      a.download = filename;\n",
              "      div.appendChild(a);\n",
              "      a.click();\n",
              "      div.remove();\n",
              "    }\n",
              "  "
            ]
          },
          "metadata": {}
        },
        {
          "output_type": "display_data",
          "data": {
            "text/plain": [
              "<IPython.core.display.Javascript object>"
            ],
            "application/javascript": [
              "download(\"download_c34b6933-c3da-4513-aca0-5d1768324413\", \"unet_brats.pth\", 104499164)"
            ]
          },
          "metadata": {}
        }
      ]
    }
  ]
}